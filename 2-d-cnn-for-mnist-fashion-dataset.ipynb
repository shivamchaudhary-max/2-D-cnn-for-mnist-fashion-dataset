{
 "cells": [
  {
   "cell_type": "markdown",
   "id": "d31a1f45",
   "metadata": {
    "id": "vXjbqLgBALGE",
    "papermill": {
     "duration": 0.010868,
     "end_time": "2022-01-22T07:49:40.574121",
     "exception": false,
     "start_time": "2022-01-22T07:49:40.563253",
     "status": "completed"
    },
    "tags": []
   },
   "source": [
    "3. Create a simple 2-D Convolutional Neural Network (CNN) model using keras\n",
    "with tensorflow backend for the MNIST fashion dataset. Perform the following.\n",
    "\n",
    "a) Preparing the data\n",
    "b) Build and compile the model\n",
    "c) Train and evaluate the model\n",
    "d) Save the model to disk for reuse"
   ]
  },
  {
   "cell_type": "code",
   "execution_count": 1,
   "id": "63073cd9",
   "metadata": {
    "execution": {
     "iopub.execute_input": "2022-01-22T07:49:40.600204Z",
     "iopub.status.busy": "2022-01-22T07:49:40.599052Z",
     "iopub.status.idle": "2022-01-22T07:49:47.170137Z",
     "shell.execute_reply": "2022-01-22T07:49:47.169307Z"
    },
    "id": "FWG2uz0EAL_C",
    "papermill": {
     "duration": 6.585215,
     "end_time": "2022-01-22T07:49:47.170334",
     "exception": false,
     "start_time": "2022-01-22T07:49:40.585119",
     "status": "completed"
    },
    "tags": []
   },
   "outputs": [],
   "source": [
    "import numpy as np\n",
    "from tensorflow import keras\n",
    "from tensorflow.keras import backend as K\n",
    "from tensorflow.keras.models import Model, Sequential\n",
    "from tensorflow.keras.layers import Dense, Dropout, Flatten, Conv2D, MaxPool2D, Input\n",
    "from tensorflow.keras.datasets import fashion_mnist"
   ]
  },
  {
   "cell_type": "code",
   "execution_count": 2,
   "id": "392f39e1",
   "metadata": {
    "execution": {
     "iopub.execute_input": "2022-01-22T07:49:47.197036Z",
     "iopub.status.busy": "2022-01-22T07:49:47.196328Z",
     "iopub.status.idle": "2022-01-22T07:49:48.548343Z",
     "shell.execute_reply": "2022-01-22T07:49:48.547772Z"
    },
    "id": "CMEJ678IAO39",
    "outputId": "84b84612-c8e6-4628-f19e-e103355e38d3",
    "papermill": {
     "duration": 1.367357,
     "end_time": "2022-01-22T07:49:48.548503",
     "exception": false,
     "start_time": "2022-01-22T07:49:47.181146",
     "status": "completed"
    },
    "tags": []
   },
   "outputs": [
    {
     "name": "stdout",
     "output_type": "stream",
     "text": [
      "Downloading data from https://storage.googleapis.com/tensorflow/tf-keras-datasets/train-labels-idx1-ubyte.gz\n",
      "32768/29515 [=================================] - 0s 0us/step\n",
      "40960/29515 [=========================================] - 0s 0us/step\n",
      "Downloading data from https://storage.googleapis.com/tensorflow/tf-keras-datasets/train-images-idx3-ubyte.gz\n",
      "26427392/26421880 [==============================] - 0s 0us/step\n",
      "26435584/26421880 [==============================] - 0s 0us/step\n",
      "Downloading data from https://storage.googleapis.com/tensorflow/tf-keras-datasets/t10k-labels-idx1-ubyte.gz\n",
      "16384/5148 [===============================================================================================] - 0s 0us/step\n",
      "Downloading data from https://storage.googleapis.com/tensorflow/tf-keras-datasets/t10k-images-idx3-ubyte.gz\n",
      "4423680/4422102 [==============================] - 0s 0us/step\n",
      "4431872/4422102 [==============================] - 0s 0us/step\n"
     ]
    },
    {
     "data": {
      "text/plain": [
       "((60000, 28, 28), (10000, 28, 28), (60000,), (10000,))"
      ]
     },
     "execution_count": 2,
     "metadata": {},
     "output_type": "execute_result"
    }
   ],
   "source": [
    "# Data Processing\n",
    "(x_train, y_train), (x_test, y_test) = fashion_mnist.load_data()\n",
    "x_train = x_train.astype('float32') / 255.0\n",
    "x_test = x_test.astype('float32') / 255.0\n",
    "\n",
    "x_train.shape, x_test.shape, y_train.shape, y_test.shape"
   ]
  },
  {
   "cell_type": "code",
   "execution_count": 3,
   "id": "ac4e5ed6",
   "metadata": {
    "execution": {
     "iopub.execute_input": "2022-01-22T07:49:48.584704Z",
     "iopub.status.busy": "2022-01-22T07:49:48.584018Z",
     "iopub.status.idle": "2022-01-22T07:49:48.589536Z",
     "shell.execute_reply": "2022-01-22T07:49:48.590040Z"
    },
    "id": "B7OEdBN-AXA1",
    "papermill": {
     "duration": 0.026006,
     "end_time": "2022-01-22T07:49:48.590244",
     "exception": false,
     "start_time": "2022-01-22T07:49:48.564238",
     "status": "completed"
    },
    "tags": []
   },
   "outputs": [],
   "source": [
    "input_shape = (x_train.shape[1:] + (1,)) # (28, 28, 1)\n",
    "num_classes = len(np.unique(y_train)) "
   ]
  },
  {
   "cell_type": "code",
   "execution_count": 4,
   "id": "85b2a675",
   "metadata": {
    "execution": {
     "iopub.execute_input": "2022-01-22T07:49:48.625138Z",
     "iopub.status.busy": "2022-01-22T07:49:48.624501Z",
     "iopub.status.idle": "2022-01-22T07:49:48.629742Z",
     "shell.execute_reply": "2022-01-22T07:49:48.630262Z"
    },
    "id": "dgu8qk_aAbz2",
    "papermill": {
     "duration": 0.024232,
     "end_time": "2022-01-22T07:49:48.630447",
     "exception": false,
     "start_time": "2022-01-22T07:49:48.606215",
     "status": "completed"
    },
    "tags": []
   },
   "outputs": [],
   "source": [
    "y_train = keras.utils.to_categorical(y_train, num_classes)\n",
    "y_test = keras.utils.to_categorical(y_test, num_classes)"
   ]
  },
  {
   "cell_type": "code",
   "execution_count": 5,
   "id": "b1efa1ab",
   "metadata": {
    "execution": {
     "iopub.execute_input": "2022-01-22T07:49:48.664965Z",
     "iopub.status.busy": "2022-01-22T07:49:48.664278Z",
     "iopub.status.idle": "2022-01-22T07:49:48.842794Z",
     "shell.execute_reply": "2022-01-22T07:49:48.840744Z"
    },
    "id": "X7JmTW4dAe-G",
    "outputId": "e4289c2d-2c59-4152-fe39-c5cba8ef36ae",
    "papermill": {
     "duration": 0.197042,
     "end_time": "2022-01-22T07:49:48.843119",
     "exception": false,
     "start_time": "2022-01-22T07:49:48.646077",
     "status": "completed"
    },
    "tags": []
   },
   "outputs": [
    {
     "name": "stdout",
     "output_type": "stream",
     "text": [
      "Model: \"model\"\n",
      "_________________________________________________________________\n",
      "Layer (type)                 Output Shape              Param #   \n",
      "=================================================================\n",
      "input_1 (InputLayer)         [(None, 28, 28, 1)]       0         \n",
      "_________________________________________________________________\n",
      "conv2d (Conv2D)              (None, 26, 26, 32)        320       \n",
      "_________________________________________________________________\n",
      "conv2d_1 (Conv2D)            (None, 24, 24, 64)        18496     \n",
      "_________________________________________________________________\n",
      "max_pooling2d (MaxPooling2D) (None, 12, 12, 64)        0         \n",
      "_________________________________________________________________\n",
      "dropout (Dropout)            (None, 12, 12, 64)        0         \n",
      "_________________________________________________________________\n",
      "flatten (Flatten)            (None, 9216)              0         \n",
      "_________________________________________________________________\n",
      "dense (Dense)                (None, 128)               1179776   \n",
      "_________________________________________________________________\n",
      "dropout_1 (Dropout)          (None, 128)               0         \n",
      "_________________________________________________________________\n",
      "dense_1 (Dense)              (None, 10)                1290      \n",
      "=================================================================\n",
      "Total params: 1,199,882\n",
      "Trainable params: 1,199,882\n",
      "Non-trainable params: 0\n",
      "_________________________________________________________________\n"
     ]
    },
    {
     "name": "stderr",
     "output_type": "stream",
     "text": [
      "\n",
      "User settings:\n",
      "\n",
      "   KMP_AFFINITY=granularity=fine,verbose,compact,1,0\n",
      "   KMP_BLOCKTIME=0\n",
      "   KMP_SETTINGS=1\n",
      "   KMP_WARNINGS=0\n",
      "\n",
      "Effective settings:\n",
      "\n",
      "   KMP_ABORT_DELAY=0\n",
      "   KMP_ADAPTIVE_LOCK_PROPS='1,1024'\n",
      "   KMP_ALIGN_ALLOC=64\n",
      "   KMP_ALL_THREADPRIVATE=128\n",
      "   KMP_ATOMIC_MODE=2\n",
      "   KMP_BLOCKTIME=0\n",
      "   KMP_CPUINFO_FILE: value is not defined\n",
      "   KMP_DETERMINISTIC_REDUCTION=false\n",
      "   KMP_DEVICE_THREAD_LIMIT=2147483647\n",
      "   KMP_DISP_NUM_BUFFERS=7\n",
      "   KMP_DUPLICATE_LIB_OK=false\n",
      "   KMP_ENABLE_TASK_THROTTLING=true\n",
      "   KMP_FORCE_REDUCTION: value is not defined\n",
      "   KMP_FOREIGN_THREADS_THREADPRIVATE=true\n",
      "   KMP_FORKJOIN_BARRIER='2,2'\n",
      "   KMP_FORKJOIN_BARRIER_PATTERN='hyper,hyper'\n",
      "   KMP_GTID_MODE=3\n",
      "   KMP_HANDLE_SIGNALS=false\n",
      "   KMP_HOT_TEAMS_MAX_LEVEL=1\n",
      "   KMP_HOT_TEAMS_MODE=0\n",
      "   KMP_INIT_AT_FORK=true\n",
      "   KMP_LIBRARY=throughput\n",
      "   KMP_LOCK_KIND=queuing\n",
      "   KMP_MALLOC_POOL_INCR=1M\n",
      "   KMP_NUM_LOCKS_IN_BLOCK=1\n",
      "   KMP_PLAIN_BARRIER='2,2'\n",
      "   KMP_PLAIN_BARRIER_PATTERN='hyper,hyper'\n",
      "   KMP_REDUCTION_BARRIER='1,1'\n",
      "   KMP_REDUCTION_BARRIER_PATTERN='hyper,hyper'\n",
      "   KMP_SCHEDULE='static,balanced;guided,iterative'\n",
      "   KMP_SETTINGS=true\n",
      "   KMP_SPIN_BACKOFF_PARAMS='4096,100'\n",
      "   KMP_STACKOFFSET=64\n",
      "   KMP_STACKPAD=0\n",
      "   KMP_STACKSIZE=8M\n",
      "   KMP_STORAGE_MAP=false\n",
      "   KMP_TASKING=2\n",
      "   KMP_TASKLOOP_MIN_TASKS=0\n",
      "   KMP_TASK_STEALING_CONSTRAINT=1\n",
      "   KMP_TEAMS_THREAD_LIMIT=4\n",
      "   KMP_TOPOLOGY_METHOD=all\n",
      "   KMP_USE_YIELD=1\n",
      "   KMP_VERSION=false\n",
      "   KMP_WARNINGS=false\n",
      "   OMP_AFFINITY_FORMAT='OMP: pid %P tid %i thread %n bound to OS proc set {%A}'\n",
      "   OMP_ALLOCATOR=omp_default_mem_alloc\n",
      "   OMP_CANCELLATION=false\n",
      "   OMP_DEFAULT_DEVICE=0\n",
      "   OMP_DISPLAY_AFFINITY=false\n",
      "   OMP_DISPLAY_ENV=false\n",
      "   OMP_DYNAMIC=false\n",
      "   OMP_MAX_ACTIVE_LEVELS=1\n",
      "   OMP_MAX_TASK_PRIORITY=0\n",
      "   OMP_NESTED: deprecated; max-active-levels-var=1\n",
      "   OMP_NUM_THREADS: value is not defined\n",
      "   OMP_PLACES: value is not defined\n",
      "   OMP_PROC_BIND='intel'\n",
      "   OMP_SCHEDULE='static'\n",
      "   OMP_STACKSIZE=8M\n",
      "   OMP_TARGET_OFFLOAD=DEFAULT\n",
      "   OMP_THREAD_LIMIT=2147483647\n",
      "   OMP_WAIT_POLICY=PASSIVE\n",
      "   KMP_AFFINITY='verbose,warnings,respect,granularity=fine,compact,1,0'\n",
      "\n",
      "2022-01-22 07:49:48.723178: I tensorflow/core/common_runtime/process_util.cc:146] Creating new thread pool with default inter op setting: 2. Tune using inter_op_parallelism_threads for best performance.\n"
     ]
    }
   ],
   "source": [
    "# Model\n",
    "inp = Input(shape=input_shape)\n",
    "_ = Conv2D(filters=32, kernel_size=(3, 3), activation='relu')(inp)\n",
    "_ = Conv2D(filters=64, kernel_size=(3, 3), activation='relu')(_)\n",
    "_ = MaxPool2D(pool_size=(2, 2))(_)\n",
    "_ = Dropout(0.25)(_)\n",
    "_ = Flatten()(_)\n",
    "_ = Dense(units=128, activation='relu')(_)\n",
    "_ = Dropout(0.2)(_)\n",
    "_ = Dense(units=num_classes, activation='softmax')(_)\n",
    "model = Model(inputs=inp, outputs=_)\n",
    "model.summary()"
   ]
  },
  {
   "cell_type": "code",
   "execution_count": 6,
   "id": "9c87b789",
   "metadata": {
    "execution": {
     "iopub.execute_input": "2022-01-22T07:49:48.888898Z",
     "iopub.status.busy": "2022-01-22T07:49:48.879761Z",
     "iopub.status.idle": "2022-01-22T07:49:48.894802Z",
     "shell.execute_reply": "2022-01-22T07:49:48.895304Z"
    },
    "id": "y0RuEhaqAm_Z",
    "papermill": {
     "duration": 0.03476,
     "end_time": "2022-01-22T07:49:48.895497",
     "exception": false,
     "start_time": "2022-01-22T07:49:48.860737",
     "status": "completed"
    },
    "tags": []
   },
   "outputs": [],
   "source": [
    "model.compile(loss=keras.losses.categorical_crossentropy,\n",
    "              optimizer=keras.optimizers.Adam(), metrics=['accuracy'])\n"
   ]
  },
  {
   "cell_type": "code",
   "execution_count": 7,
   "id": "90152d33",
   "metadata": {
    "execution": {
     "iopub.execute_input": "2022-01-22T07:49:48.932290Z",
     "iopub.status.busy": "2022-01-22T07:49:48.931649Z",
     "iopub.status.idle": "2022-01-22T07:58:36.349609Z",
     "shell.execute_reply": "2022-01-22T07:58:36.350158Z"
    },
    "id": "xOjw69q8Aro2",
    "outputId": "50764db4-d262-4299-c3c2-2a630a24ea2a",
    "papermill": {
     "duration": 527.438394,
     "end_time": "2022-01-22T07:58:36.350390",
     "exception": false,
     "start_time": "2022-01-22T07:49:48.911996",
     "status": "completed"
    },
    "tags": []
   },
   "outputs": [
    {
     "name": "stderr",
     "output_type": "stream",
     "text": [
      "2022-01-22 07:49:49.205948: I tensorflow/compiler/mlir/mlir_graph_optimization_pass.cc:185] None of the MLIR Optimization Passes are enabled (registered 2)\n"
     ]
    },
    {
     "name": "stdout",
     "output_type": "stream",
     "text": [
      "Epoch 1/12\n",
      "329/329 [==============================] - 45s 135ms/step - loss: 0.5016 - accuracy: 0.8238 - val_loss: 0.3247 - val_accuracy: 0.8850\n",
      "Epoch 2/12\n",
      "329/329 [==============================] - 43s 132ms/step - loss: 0.3127 - accuracy: 0.8870 - val_loss: 0.2786 - val_accuracy: 0.9008\n",
      "Epoch 3/12\n",
      "329/329 [==============================] - 43s 132ms/step - loss: 0.2610 - accuracy: 0.9051 - val_loss: 0.2447 - val_accuracy: 0.9121\n",
      "Epoch 4/12\n",
      "329/329 [==============================] - 44s 133ms/step - loss: 0.2254 - accuracy: 0.9162 - val_loss: 0.2393 - val_accuracy: 0.9124\n",
      "Epoch 5/12\n",
      "329/329 [==============================] - 44s 133ms/step - loss: 0.1981 - accuracy: 0.9269 - val_loss: 0.2262 - val_accuracy: 0.9191\n",
      "Epoch 6/12\n",
      "329/329 [==============================] - 43s 132ms/step - loss: 0.1738 - accuracy: 0.9356 - val_loss: 0.2296 - val_accuracy: 0.9188\n",
      "Epoch 7/12\n",
      "329/329 [==============================] - 44s 134ms/step - loss: 0.1546 - accuracy: 0.9428 - val_loss: 0.2384 - val_accuracy: 0.9166\n",
      "Epoch 8/12\n",
      "329/329 [==============================] - 44s 134ms/step - loss: 0.1351 - accuracy: 0.9500 - val_loss: 0.2291 - val_accuracy: 0.9248\n",
      "Epoch 9/12\n",
      "329/329 [==============================] - 44s 134ms/step - loss: 0.1205 - accuracy: 0.9541 - val_loss: 0.2306 - val_accuracy: 0.9225\n",
      "Epoch 10/12\n",
      "329/329 [==============================] - 44s 132ms/step - loss: 0.1070 - accuracy: 0.9615 - val_loss: 0.2363 - val_accuracy: 0.9223\n",
      "Epoch 11/12\n",
      "329/329 [==============================] - 44s 134ms/step - loss: 0.0955 - accuracy: 0.9639 - val_loss: 0.2337 - val_accuracy: 0.9243\n",
      "Epoch 12/12\n",
      "329/329 [==============================] - 44s 134ms/step - loss: 0.0850 - accuracy: 0.9676 - val_loss: 0.2497 - val_accuracy: 0.9263\n"
     ]
    }
   ],
   "source": [
    "history = model.fit(np.expand_dims(x_train, -1), y_train, batch_size=128, epochs=12, validation_split=0.3)"
   ]
  },
  {
   "cell_type": "code",
   "execution_count": 8,
   "id": "19fab200",
   "metadata": {
    "execution": {
     "iopub.execute_input": "2022-01-22T07:58:38.819192Z",
     "iopub.status.busy": "2022-01-22T07:58:38.818518Z",
     "iopub.status.idle": "2022-01-22T07:58:38.880212Z",
     "shell.execute_reply": "2022-01-22T07:58:38.880796Z"
    },
    "id": "3ZAWofkpAxPQ",
    "papermill": {
     "duration": 1.309891,
     "end_time": "2022-01-22T07:58:38.881008",
     "exception": false,
     "start_time": "2022-01-22T07:58:37.571117",
     "status": "completed"
    },
    "tags": []
   },
   "outputs": [],
   "source": [
    "# Save the Model Training \n",
    "filename = 'Model_12_epochs.h5'\n",
    "model.save(filename)"
   ]
  },
  {
   "cell_type": "code",
   "execution_count": 9,
   "id": "71bbbfc2",
   "metadata": {
    "execution": {
     "iopub.execute_input": "2022-01-22T07:58:41.309905Z",
     "iopub.status.busy": "2022-01-22T07:58:41.309251Z",
     "iopub.status.idle": "2022-01-22T07:58:41.326005Z",
     "shell.execute_reply": "2022-01-22T07:58:41.326548Z"
    },
    "id": "Mt9SaQjuEdPD",
    "papermill": {
     "duration": 1.235305,
     "end_time": "2022-01-22T07:58:41.326753",
     "exception": false,
     "start_time": "2022-01-22T07:58:40.091448",
     "status": "completed"
    },
    "tags": []
   },
   "outputs": [],
   "source": [
    "#To load a model that we have already trained and saved:\n",
    "model.load_weights('Model_12_epochs.h5')"
   ]
  },
  {
   "cell_type": "code",
   "execution_count": 10,
   "id": "e9a09874",
   "metadata": {
    "execution": {
     "iopub.execute_input": "2022-01-22T07:58:43.808654Z",
     "iopub.status.busy": "2022-01-22T07:58:43.808022Z",
     "iopub.status.idle": "2022-01-22T07:58:46.766214Z",
     "shell.execute_reply": "2022-01-22T07:58:46.765508Z"
    },
    "id": "IYO4u6oTEhOH",
    "outputId": "6c56dcb2-56b4-448f-d382-4bff1e514338",
    "papermill": {
     "duration": 4.16937,
     "end_time": "2022-01-22T07:58:46.766383",
     "exception": false,
     "start_time": "2022-01-22T07:58:42.597013",
     "status": "completed"
    },
    "tags": []
   },
   "outputs": [
    {
     "name": "stdout",
     "output_type": "stream",
     "text": [
      "0.2604917883872986 0.9207000136375427\n"
     ]
    }
   ],
   "source": [
    "## Evaluation Model\n",
    "\n",
    "loss, accuracy = model.evaluate(np.expand_dims(x_test, -1), y_test, verbose=0)\n",
    "print(loss, accuracy)"
   ]
  },
  {
   "cell_type": "code",
   "execution_count": 11,
   "id": "2ff5e31a",
   "metadata": {
    "execution": {
     "iopub.execute_input": "2022-01-22T07:58:49.238379Z",
     "iopub.status.busy": "2022-01-22T07:58:49.237711Z",
     "iopub.status.idle": "2022-01-22T07:58:49.672615Z",
     "shell.execute_reply": "2022-01-22T07:58:49.673161Z"
    },
    "id": "f3G9Cv6MEmdY",
    "outputId": "61991649-46f9-4425-c84e-c410274637dd",
    "papermill": {
     "duration": 1.667097,
     "end_time": "2022-01-22T07:58:49.673338",
     "exception": false,
     "start_time": "2022-01-22T07:58:48.006241",
     "status": "completed"
    },
    "tags": []
   },
   "outputs": [
    {
     "data": {
      "text/plain": [
       "<matplotlib.legend.Legend at 0x7fec74fd9950>"
      ]
     },
     "execution_count": 11,
     "metadata": {},
     "output_type": "execute_result"
    },
    {
     "data": {
      "image/png": "[encoded data removed]",
      "text/plain": [
       "<Figure size 1008x360 with 2 Axes>"
      ]
     },
     "metadata": {
      "needs_background": "light"
     },
     "output_type": "display_data"
    }
   ],
   "source": [
    "import matplotlib.pyplot as plt\n",
    "%matplotlib inline\n",
    "\n",
    "fig, (ax1, ax2) = plt.subplots(nrows=1, ncols=2, figsize=(14, 5))\n",
    "ax1.plot(history.history['loss'], label='Train Loss')\n",
    "ax1.plot(history.history['val_loss'], label='Val Loss')\n",
    "ax1.legend()\n",
    "ax2.plot(history.history['accuracy'], label='Train Accuracy')\n",
    "ax2.plot(history.history['val_accuracy'], label='Val Accuracy')\n",
    "ax2.legend()"
   ]
  },
  {
   "cell_type": "code",
   "execution_count": null,
   "id": "113a2038",
   "metadata": {
    "id": "hWdJeL5QKMsK",
    "papermill": {
     "duration": 1.219926,
     "end_time": "2022-01-22T07:58:52.114468",
     "exception": false,
     "start_time": "2022-01-22T07:58:50.894542",
     "status": "completed"
    },
    "tags": []
   },
   "outputs": [],
   "source": []
  }
 ],
 "metadata": {
  "kernelspec": {
   "display_name": "Python 3",
   "language": "python",
   "name": "python3"
  },
  "language_info": {
   "codemirror_mode": {
    "name": "ipython",
    "version": 3
   },
   "file_extension": ".py",
   "mimetype": "text/x-python",
   "name": "python",
   "nbconvert_exporter": "python",
   "pygments_lexer": "ipython3",
   "version": "3.7.12"
  },
  "papermill": {
   "default_parameters": {},
   "duration": 565.628429,
   "end_time": "2022-01-22T07:58:56.049770",
   "environment_variables": {},
   "exception": null,
   "input_path": "__notebook__.ipynb",
   "output_path": "__notebook__.ipynb",
   "parameters": {},
   "start_time": "2022-01-22T07:49:30.421341",
   "version": "2.3.3"
  }
 },
 "nbformat": 4,
 "nbformat_minor": 5
}
